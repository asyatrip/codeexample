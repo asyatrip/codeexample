{
 "cells": [
  {
   "cell_type": "markdown",
   "metadata": {},
   "source": [
    "# Интеллектуальный анализ данных – весна 2022\n",
    "\n",
    "# Домашнее задание 7: Деревья. Случайный лес\n",
    "\n",
    "Правила:\n",
    "\n",
    "- Домашнее задание оценивается в 10 баллов (+1 бонусный балл).\n",
    "\n",
    "\n",
    "- Можно использовать без доказательства любые результаты, встречавшиеся на лекциях или семинарах по курсу, если получение этих результатов не является вопросом задания.\n",
    "\n",
    "\n",
    "- Можно использовать любые свободные источники с обязательным указанием ссылки на них.\n",
    "\n",
    "\n",
    "- Плагиат не допускается. При обнаружении случаев списывания, 0 за работу выставляется всем участникам нарушения, даже если можно установить, кто у кого списал.\n",
    "\n",
    "<!-- ![](meme.jpg) -->\n",
    "<img src=\"meme.jpg\" alt=\"Drawing\" style=\"width: 700px;\"/>"
   ]
  },
  {
   "cell_type": "markdown",
   "metadata": {},
   "source": [
    "## Часть 1: Основы построения решающие дерева (1.5 балла)\n",
    "\n",
    "В этой части все расчёты необходимо реализовывать в виде запрограммированных формул, например, на `numpy`. **Нельзя использовать готовые реализации**. Например, если в задании требуется рассчитать энтропию, то требуется в каком-то виде релизовать расчёт по формуле, но нельзя использовать готовую реализацию `some_module.entropy()`."
   ]
  },
  {
   "cell_type": "code",
   "execution_count": 45,
   "metadata": {},
   "outputs": [],
   "source": [
    "import numpy as np\n",
    "import pandas as pd\n",
    "import matplotlib.pyplot as plt\n",
    "from collections import Counter #подсчет значений - хорошо для классификации"
   ]
  },
  {
   "cell_type": "markdown",
   "metadata": {},
   "source": [
    "**Задание 1.1 (0.5 балла)** Пусть известно, что в вершину решающего дерева попали 10 объектов, 8 из которых имеют метку класса $k_1$, а 2 имеют метку класса $k_2$. Рассчитайте энтропию такого распределения классов (с натуральным логарифмом). Ответ округлите до двух знаков после запятой."
   ]
  },
  {
   "cell_type": "code",
   "execution_count": 46,
   "metadata": {},
   "outputs": [
    {
     "name": "stdout",
     "output_type": "stream",
     "text": [
      "Энтропия распределения классов равна 0.5\n"
     ]
    }
   ],
   "source": [
    "Rm = np.array([0, 0, 0, 0, 0, 0, 0, 0, 1, 1]) # 2 класса - единицы и нолики\n",
    "\n",
    "# Зададим функцию, которая будет возвращать энтропию по массиву ответов в вершине\n",
    "\n",
    "def H_log(R):\n",
    "    R_size = len(R) # Определяем количество объектов в вершине\n",
    "    Classes = np.array(list(Counter(R).values())) # Определяем, сколько элементов каждого класса в вершине\n",
    "    R = Classes/R_size # Переходим от количества элементов к долям каждого класса (относительной частоте появления каждого класса)\n",
    "    return -np.sum(R*np.log(R)) # По относительным частотам считаем энтропию\n",
    "\n",
    "ent = round(H_log(Rm), 2)\n",
    "print(f'Энтропия распределения классов равна {ent}')\n",
    "\n",
    "# Важное замечание: в эту функцию подается массив ответов, а не относительные частоты появления классов. Если какого-то класса нет, то он вообще не попадет в относительные частоты (в массиве относительных частот не будет нулей)\n",
    "# Мы можем пренебречь этими нулями, так как без них энтропия будет такая же"
   ]
  },
  {
   "cell_type": "markdown",
   "metadata": {},
   "source": [
    "**Задание 1.2 (0.5 балла)** Пусть дополнительно известно, что вершина из предыдущего задания не является листовой и возможно такое разбиение, что в левое поддерево попадут все объекты класса $k_1$, а в правое - класса $k_2$. Посчитайте критерий информативности:\n",
    "\n",
    "$$\n",
    "Q(R_m, j, t) = H(R_m) - \\frac{|R_\\ell|}{|R_m|}H(R_\\ell) - \\frac{|R_r|}{|R_m|}H(R_r),\n",
    "$$\n",
    "\n",
    "где $R_m$ - множество объектов в разбиваемой вершине, $j$ - номер признака, по которому происходит разбиение, $t$ - порог разбиения, $R_\\ell$ - множество объектов в левом поддереве, $R_r$ - множество объектов в правом поддереве.\n",
    "\n",
    "Теперь в качестве $H(R)$ будем использовать индекс Джини:\n",
    "\n",
    "$$\n",
    "H(R) = \\sum_{k=1}^J p_k(1-p_k),\n",
    "$$\n",
    "где $J$ – общее количество классов (в нашем случае, $J = 2$).\n",
    "\n",
    "Ответ округлите до двух знаков после запятой."
   ]
  },
  {
   "cell_type": "code",
   "execution_count": 47,
   "metadata": {
    "scrolled": false
   },
   "outputs": [
    {
     "name": "stdout",
     "output_type": "stream",
     "text": [
      "Критерий информативности при таком распределении равен 0.32\n"
     ]
    }
   ],
   "source": [
    "# Разибение, где в левое поддерево попадают все объекты первого класса, а в правое - второго класса\n",
    "Rl = np.array([0, 0, 0, 0, 0, 0, 0, 0])\n",
    "Rr = np.array([1, 1])\n",
    "\n",
    "# Зададим функцию, которая будет возвращать индекс Джини по массиву ответов в вершине\n",
    "\n",
    "def Gini(R):\n",
    "    R_size = len(R) # Определяем количество объектов в вершине\n",
    "    Classes = np.array(list(Counter(R).values())) # Определяем, сколько элементов каждого класса в вершине\n",
    "    R = Classes/R_size # Переходим от количества элементов к долям каждого класса (относительной частоте появления каждого класса)\n",
    "    return np.sum(R*(1-R)) # По относительной частоте считаем индекс Джини\n",
    "\n",
    "# Теперь зададим функцию, которая будет считать критерий информативности разбиения\n",
    "\n",
    "def Q(Rl, Rr, Rm, entropy: str):\n",
    "    if entropy == 'log':\n",
    "        return H_log(Rm) - len(Rl)/len(Rm)*H_log(Rl) - len(Rr)/len(Rm)*H_log(Rr)\n",
    "    elif entropy == 'gini':\n",
    "        return Gini(Rm) - len(Rl)/len(Rm)*Gini(Rl) - len(Rr)/len(Rm)*Gini(Rr)\n",
    "    elif entropy == 'var':\n",
    "        return np.var(Rm) - len(Rl)/len(Rm)*np.var(Rl) - len(Rr)/len(Rm)*np.var(Rr) # Из-за 2го задания сразу добавляе дисперсию\n",
    "    else:\n",
    "        return 'Entropy for Q should be log, gini or var'\n",
    "\n",
    "Q_ = round(Q(Rl, Rr, Rm, 'gini'), 2)\n",
    "print(f'Критерий информативности при таком распределении равен {Q_}')"
   ]
  },
  {
   "cell_type": "markdown",
   "metadata": {},
   "source": [
    "**Задание 1.3 (0.5 балла)** Пусть при построении дерева образовалась листовая вершина с 10 объектами, значения целевой переменной для которых следующие: [1, 10, 5, 18, 100, 30, 50, 61, 84, 47] (решается задача регрессии). Чему будут равны предсказания модели для этих объектов?"
   ]
  },
  {
   "cell_type": "code",
   "execution_count": 48,
   "metadata": {},
   "outputs": [
    {
     "name": "stdout",
     "output_type": "stream",
     "text": [
      "Предсказания модели равны 40.6\n"
     ]
    }
   ],
   "source": [
    "leaf = np.array([1, 10, 5, 18, 100, 30, 50, 61, 84, 47])\n",
    "pred = np.mean(leaf) # Предсказание - просто среднее значение всех объектов в вершине\n",
    "print(f'Предсказания модели равны {pred}')"
   ]
  },
  {
   "cell_type": "markdown",
   "metadata": {},
   "source": [
    "## Часть 2: Решающие деревья (4.5 балла)\n",
    "\n",
    "В этой части мы напишем и протестируем собственную реализацию решающего дерева."
   ]
  },
  {
   "cell_type": "code",
   "execution_count": 49,
   "metadata": {},
   "outputs": [],
   "source": [
    "from typing import Dict, List, Tuple, Union"
   ]
  },
  {
   "cell_type": "markdown",
   "metadata": {},
   "source": [
    "**Задание 2.1 (1.5 балла)** Реализуйте функцию `find_best_split()`, которая должна находить оптимальное разбиение подмножества обучающей выборки в соответствии с информационным критерием из **Задания 1.2**. В качестве меры хаотичности $H(R)$ для задачи регрессии испольуйте дисперсию подвыборки, а для задачи классификации – критерий Джини (определён в том же задании).\n",
    "\n",
    "Для категориальных признаков применяется наивный алгоритм разбиения: мы пытаемся найти одно значение, разбиение по которому сильнее всего увеличит критерий информативности. Иными словами, объекты с конкретным значением признака отправляем в левое поддерево, остальные - в правое. Обратите внимание, что это далеко не оптимальные способ учёта категориальных признаков. Например, можно было бы на каждое значение категориального признака создавать отдельное поддерево или использовать более сложные подходы. Подробнее об этом можно прочитать в конспектах [лекций](https://github.com/esokolov/ml-course-hse/blob/master/2019-fall/lecture-notes/lecture07-trees.pdf) по машинному обучению на ПМИ (раздел «Учёт категориальных признаков»).\n",
    "\n",
    "В качестве подсказок реализации можете пользоваться кодом из бонусной части семинара по решающим деревьям.\n",
    "\n",
    "**Бонус:** Разрешается делать цикл для перебора порогов, но возможна имплементация без него. За имплементацию без цикла – **бонус 1 балл**."
   ]
  },
  {
   "cell_type": "code",
   "execution_count": 50,
   "metadata": {},
   "outputs": [],
   "source": [
    "def find_best_split(\n",
    "    feature_vector: Union[np.ndarray, pd.DataFrame], # то есть в функцию идет только 1 признак и мы ищем порог для него\n",
    "    target_vector: Union[np.ndarray, pd.Series],\n",
    "    task: str = \"classification\",\n",
    "    feature_type: str = \"real\",\n",
    ") -> Tuple[np.ndarray, np.ndarray, float, float]:\n",
    "    \"\"\"\n",
    "    Указания:\n",
    "    * Пороги, приводящие к попаданию в одно из поддеревьев пустого множества объектов, не рассматриваются.\n",
    "    * В качестве порогов, нужно брать среднее двух соседних (при сортировке) значений признака\n",
    "    * Поведение функции в случае константного признака может быть любым.\n",
    "    * При одинаковых приростах Джини или дисперсии нужно выбирать минимальный сплит.\n",
    "    * За наличие в функции циклов балл будет снижен. Векторизуйте! :)\n",
    "\n",
    "    :param feature_vector: вещественнозначный вектор значений признака\n",
    "    :param target_vector: вектор классов объектов,  len(feature_vector) == len(target_vector)\n",
    "    :param task: либо `classification`, либо `regression`\n",
    "    :param feature_type: либо `real`, либо `categorical`\n",
    "    \n",
    "    :return thresholds: отсортированный по возрастанию вектор со всеми возможными порогами, по которым объекты можно\n",
    "     разделить на две различные подвыборки, или поддерева\n",
    "    :return ginis: вектор со значениями критерия Джини для каждого из порогов в thresholds len(ginis) == len(thresholds)\n",
    "    :return threshold_best: оптимальный порог (число)\n",
    "    :return gini_best: оптимальное значение критерия Джини (число)\n",
    "    \"\"\"\n",
    "    feature_vector = np.array(feature_vector) # Если нам дали части ДатаФреймов, то на этом шаге они станут массивами Numpy (?)\n",
    "    target_vector = np.array(target_vector)\n",
    "    \n",
    "    # Функции, которые разделяют вершину на 2 по порогу\n",
    "    def spliter_real(feature_vector: np.ndarray, target_vector: np.ndarray, t: float): # Для вещественных признаков\n",
    "        Rl, Rr = [], [] # 2 дочерние вершины\n",
    "        Rl = target_vector[feature_vector <= t] # В левую вершину добавляем ответы, у которых признак меньше или равен t\n",
    "        Rr = target_vector[feature_vector > t] # В правую вершину добавляем ответы, у которых признак больше t\n",
    "        return [Rl, Rr]\n",
    "    \n",
    "    def spliter_categorial(feature_vector: np.ndarray, target_vector: np.ndarray, t: float): # Для категориальных переменных\n",
    "        Rl, Rr = [], [] # 2 дочерние вершины\n",
    "        Rl = target_vector[feature_vector == t] # В левую вершину добавляем ответы, у которых признак равен t\n",
    "        Rr = target_vector[feature_vector != t] # В правую вершину добавляем ответы, у которых признак не равен t\n",
    "        return [Rl, Rr]\n",
    "    \n",
    "    #for real\n",
    "    if feature_type == 'real':\n",
    "        features_sorted = np.unique(np.sort(feature_vector)) # Берем уникальные отсротированные значения, чтобы перебрать все пороги\n",
    "        inf_list = [] # Список с критериями информативности\n",
    "        t_list = [] # Список с порогами\n",
    "        for i in range (1, len(features_sorted)):\n",
    "            t = np.mean([features_sorted[i-1], features_sorted[i]]) # Берем среднее из двух элементов в качестве порога\n",
    "            Rl, Rr = spliter_real(feature_vector, target_vector, t) # Делим вершину на 2 дочерние порогом\n",
    "            if task == 'classification':\n",
    "                inf = Q(Rl, Rr, feature_vector, 'gini') # Критерий информативности для классификации\n",
    "            elif task == 'regression':\n",
    "                inf = Q(Rl, Rr, feature_vector, 'var') # Критерий информативности для регрессии\n",
    "            else:\n",
    "                return 'Error: task should be classification or regression'\n",
    "            inf_list.append(inf) # Добавляем в список критерий информативности и порог\n",
    "            t_list.append(t)\n",
    "\n",
    "    #for categorial\n",
    "    elif feature_type == 'categorical':\n",
    "        inf_list = []\n",
    "        t_list = np.unique(feature_vector) # Критерий разбиения - все уникальные категории\n",
    "        for t in t_list:\n",
    "            Rl, Rr = spliter_categorial(feature_vector, target_vector, t)# Дальше аналогично\n",
    "            if task == 'classification':\n",
    "                inf = Q(Rl, Rr, feature_vector, 'gini') # Критерий информативности для классификации\n",
    "            elif task == 'regression':\n",
    "                inf = Q(Rl, Rr, feature_vector, 'var') # Критерий информативности для регрессии\n",
    "            else:\n",
    "                return 'Error: taks should be classification or regression'\n",
    "            inf_list.append(inf)\n",
    "    \n",
    "    else:\n",
    "        return 'Error: feature_type should be real or categorical'\n",
    "    \n",
    "    best_index = inf_list.index(max(inf_list)) # Если максимумов несколько, то он просто возьмет ближайший и сплит как раз будет минимальным\n",
    "    inf_best = inf_list[best_index] \n",
    "    t_best = t_list[best_index]\n",
    "    return (t_list, inf_list, t_best, inf_best)\n",
    "\n",
    "    pass"
   ]
  },
  {
   "cell_type": "markdown",
   "metadata": {},
   "source": [
    "Эту функцию можно протестировать на датасете `California`."
   ]
  },
  {
   "cell_type": "code",
   "execution_count": 51,
   "metadata": {},
   "outputs": [],
   "source": [
    "from sklearn.datasets import fetch_california_housing"
   ]
  },
  {
   "cell_type": "code",
   "execution_count": 52,
   "metadata": {
    "scrolled": false
   },
   "outputs": [
    {
     "data": {
      "text/html": [
       "<div>\n",
       "<style scoped>\n",
       "    .dataframe tbody tr th:only-of-type {\n",
       "        vertical-align: middle;\n",
       "    }\n",
       "\n",
       "    .dataframe tbody tr th {\n",
       "        vertical-align: top;\n",
       "    }\n",
       "\n",
       "    .dataframe thead th {\n",
       "        text-align: right;\n",
       "    }\n",
       "</style>\n",
       "<table border=\"1\" class=\"dataframe\">\n",
       "  <thead>\n",
       "    <tr style=\"text-align: right;\">\n",
       "      <th></th>\n",
       "      <th>MedInc</th>\n",
       "      <th>HouseAge</th>\n",
       "      <th>AveRooms</th>\n",
       "      <th>AveBedrms</th>\n",
       "      <th>Population</th>\n",
       "      <th>AveOccup</th>\n",
       "      <th>Latitude</th>\n",
       "      <th>Longitude</th>\n",
       "    </tr>\n",
       "  </thead>\n",
       "  <tbody>\n",
       "    <tr>\n",
       "      <th>0</th>\n",
       "      <td>8.3252</td>\n",
       "      <td>41.0</td>\n",
       "      <td>6.984127</td>\n",
       "      <td>1.023810</td>\n",
       "      <td>322.0</td>\n",
       "      <td>2.555556</td>\n",
       "      <td>37.88</td>\n",
       "      <td>-122.23</td>\n",
       "    </tr>\n",
       "    <tr>\n",
       "      <th>1</th>\n",
       "      <td>8.3014</td>\n",
       "      <td>21.0</td>\n",
       "      <td>6.238137</td>\n",
       "      <td>0.971880</td>\n",
       "      <td>2401.0</td>\n",
       "      <td>2.109842</td>\n",
       "      <td>37.86</td>\n",
       "      <td>-122.22</td>\n",
       "    </tr>\n",
       "    <tr>\n",
       "      <th>2</th>\n",
       "      <td>7.2574</td>\n",
       "      <td>52.0</td>\n",
       "      <td>8.288136</td>\n",
       "      <td>1.073446</td>\n",
       "      <td>496.0</td>\n",
       "      <td>2.802260</td>\n",
       "      <td>37.85</td>\n",
       "      <td>-122.24</td>\n",
       "    </tr>\n",
       "    <tr>\n",
       "      <th>3</th>\n",
       "      <td>5.6431</td>\n",
       "      <td>52.0</td>\n",
       "      <td>5.817352</td>\n",
       "      <td>1.073059</td>\n",
       "      <td>558.0</td>\n",
       "      <td>2.547945</td>\n",
       "      <td>37.85</td>\n",
       "      <td>-122.25</td>\n",
       "    </tr>\n",
       "    <tr>\n",
       "      <th>4</th>\n",
       "      <td>3.8462</td>\n",
       "      <td>52.0</td>\n",
       "      <td>6.281853</td>\n",
       "      <td>1.081081</td>\n",
       "      <td>565.0</td>\n",
       "      <td>2.181467</td>\n",
       "      <td>37.85</td>\n",
       "      <td>-122.25</td>\n",
       "    </tr>\n",
       "  </tbody>\n",
       "</table>\n",
       "</div>"
      ],
      "text/plain": [
       "   MedInc  HouseAge  AveRooms  AveBedrms  Population  AveOccup  Latitude  \\\n",
       "0  8.3252      41.0  6.984127   1.023810       322.0  2.555556     37.88   \n",
       "1  8.3014      21.0  6.238137   0.971880      2401.0  2.109842     37.86   \n",
       "2  7.2574      52.0  8.288136   1.073446       496.0  2.802260     37.85   \n",
       "3  5.6431      52.0  5.817352   1.073059       558.0  2.547945     37.85   \n",
       "4  3.8462      52.0  6.281853   1.081081       565.0  2.181467     37.85   \n",
       "\n",
       "   Longitude  \n",
       "0    -122.23  \n",
       "1    -122.22  \n",
       "2    -122.24  \n",
       "3    -122.25  \n",
       "4    -122.25  "
      ]
     },
     "execution_count": 52,
     "metadata": {},
     "output_type": "execute_result"
    }
   ],
   "source": [
    "data = fetch_california_housing()\n",
    "X = pd.DataFrame(data=data[\"data\"], columns=data[\"feature_names\"])\n",
    "y = data[\"target\"]\n",
    "X.head()"
   ]
  },
  {
   "cell_type": "markdown",
   "metadata": {},
   "source": [
    "Выведите график зависимости значения критерия ошибки от порогового значения при разбиении вершины по признаку `MedInc`."
   ]
  },
  {
   "cell_type": "code",
   "execution_count": 54,
   "metadata": {},
   "outputs": [
    {
     "data": {
      "image/png": "[encoded data removed]",
      "text/plain": [
       "<Figure size 936x504 with 1 Axes>"
      ]
     },
     "metadata": {
      "needs_background": "light"
     },
     "output_type": "display_data"
    }
   ],
   "source": [
    "t_todraw, inf_todraw = find_best_split(X['MedInc'], y, 'regression', 'real')[0], find_best_split(X['MedInc'], y, 'regression', 'real')[1]\n",
    "\n",
    "plt.figure(figsize=(13, 7))\n",
    "plt.title('Зависимость значения критерия ошибки от порогового значения признака MedInc')\n",
    "plt.plot(t_todraw, inf_todraw, 'c')\n",
    "plt.grid()\n",
    "plt.show()"
   ]
  },
  {
   "cell_type": "markdown",
   "metadata": {},
   "source": [
    "Найдите лучший, с вашей точки зрения, предикат первой вершины решающего дерева."
   ]
  },
  {
   "cell_type": "code",
   "execution_count": 10,
   "metadata": {},
   "outputs": [
    {
     "name": "stdout",
     "output_type": "stream",
     "text": [
      "Best predicate: feature is Population, threshold is 1160.5\n"
     ]
    }
   ],
   "source": [
    "inf_ = 0\n",
    "\n",
    "for column in X.columns:\n",
    "    inf_best = find_best_split(X[column], y, 'regression', 'real')[3]\n",
    "    if inf_best > inf_:\n",
    "        inf_ = inf_best\n",
    "        t_best = find_best_split(X[column], y, 'regression', 'real')[2]\n",
    "        feature_best = column\n",
    "print(f'Best predicate: feature is {feature_best}, threshold is {t_best}')"
   ]
  },
  {
   "cell_type": "markdown",
   "metadata": {},
   "source": [
    "**Задание 2.2 (1 балл)** Разберитесь с написанным кодом решающего дерева, заполните пропуски в коде и реализуйте недостающий метод `_predict_node()`.\n",
    "\n",
    "Построение дерева осуществляется согласно базовому жадному алгоритму, предложенному в лекции в разделе «Построение дерева».\n",
    "- **Выбор лучшего разбиения** необходимо производить по критерию Джини.\n",
    "- **Критерий останова:** все объекты в листе относятся к одному классу или ни по одному признаку нельзя разбить выборку.\n",
    "- **Ответ в листе:** наиболее часто встречающийся класс в листе.\n",
    "\n",
    "В задаче также предлагается получить два бонуса, по баллу на каждый!\n",
    "\n",
    "- **Реализуйте способ обрабатывать пропуски в даннх и реализуйте его, пояснив свои действия.**\n",
    "- **Реализуйте метод оценки важности признаков.**"
   ]
  },
  {
   "cell_type": "code",
   "execution_count": 11,
   "metadata": {},
   "outputs": [],
   "source": [
    "class DecisionTree:\n",
    "    \n",
    "    def __init__(\n",
    "        self, \n",
    "        feature_types: Union[List[str], np.ndarray], \n",
    "        max_depth: int = None, \n",
    "        min_samples_split: int = None, \n",
    "        min_samples_leaf: int = None,\n",
    "        task: str = \"classification\"\n",
    "    ) -> None:\n",
    "        \n",
    "        if np.any(list(map(lambda x: x != \"real\" and x != \"categorical\", feature_types))):\n",
    "            raise ValueError(\"There is unknown feature type\")\n",
    "\n",
    "        # В этой переменной будем хранить узлы решающего дерева. Каждая вершина хранит в себе идентификатор того,\n",
    "        # является ли она листовой. Листовые вершины хранят значение класса для предсказания, нелистовые - правого и\n",
    "        # левого детей (поддеревья для продолжения процедуры предсказания)\n",
    "        self._tree = {}\n",
    "        \n",
    "        # типы признаков (категориальные или числовые)\n",
    "        self._feature_types = feature_types\n",
    "        \n",
    "        # гиперпараметры дерева\n",
    "        self._max_depth = max_depth\n",
    "        self._min_samples_split = min_samples_split\n",
    "        self._min_samples_leaf = min_samples_leaf\n",
    "        self.task = task\n",
    "        \n",
    "        # Переменная, если вы решите делать бонус\n",
    "        self._feature_importances = {}\n",
    "        # Бонуса не будет...\n",
    "\n",
    "    def _fit_node(\n",
    "        self, \n",
    "        sub_X: np.ndarray, \n",
    "        sub_y: np.ndarray, \n",
    "        node: dict\n",
    "    ) -> None:\n",
    "        \n",
    "        # критерий останова\n",
    "        if np.all(sub_y == sub_y[0]):\n",
    "            node[\"type\"] = \"terminal\"\n",
    "            node[\"class\"] = sub_y[0]\n",
    "            return\n",
    "\n",
    "        feature_best, threshold_best, gini_best, split = None, None, None, None\n",
    "        for feature in range(sub_X.shape[1]):\n",
    "            feature_type = self._feature_types[feature]\n",
    "            categories_map = {}\n",
    "\n",
    "            # подготавливаем признак для поиска оптимального порога\n",
    "            if feature_type == \"real\":\n",
    "                feature_vector = sub_X[:, feature]\n",
    "            elif feature_type == \"categorical\":\n",
    "                # здесь могла быть реализация более сложного подхода к обработке категориального признака\n",
    "                feature_vector = sub_X[:, feature]\n",
    "\n",
    "            # ищем оптимальный порог\n",
    "            _, _, threshold, gini = find_best_split(feature_vector, sub_y, self.task, feature_type)\n",
    "            \n",
    "            if gini_best is None or gini > gini_best:\n",
    "                feature_best = feature\n",
    "                gini_best = gini\n",
    "\n",
    "                # split - маска на объекты, которые должны попасть в левое поддерево\n",
    "                if feature_type == \"real\":\n",
    "                    threshold_best = threshold\n",
    "                    split = feature_vector <= threshold # Добавила\n",
    "                elif feature_type == \"categorical\":\n",
    "                    # в данной реализации это просто значение категории\n",
    "                    threshold_best = threshold\n",
    "                    split = feature_vector == threshold # Добавила\n",
    "                else:\n",
    "                    raise ValueError\n",
    "\n",
    "        # записываем полученные сплиты в атрибуты класса\n",
    "        if feature_best is None:\n",
    "            node[\"type\"] = \"terminal\"\n",
    "            node[\"class\"] = Counter(sub_y).most_common(1)[0][0]\n",
    "            return\n",
    "\n",
    "        node[\"type\"] = \"nonterminal\"\n",
    "\n",
    "        node[\"feature_split\"] = feature_best\n",
    "        if self._feature_types[feature_best] == \"real\":\n",
    "            node[\"threshold\"] = threshold_best\n",
    "        elif self._feature_types[feature_best] == \"categorical\":\n",
    "            node[\"category_split\"] = threshold_best\n",
    "        else:\n",
    "            raise ValueError\n",
    "            \n",
    "        node[\"left_child\"], node[\"right_child\"] = {}, {}\n",
    "        self._fit_node(sub_X[split], sub_y[split], node[\"left_child\"])\n",
    "        self._fit_node(sub_X[np.logical_not(split)], sub_y[np.logical_not(split)], node[\"right_child\"])\n",
    "\n",
    "    def _predict_node(self, x: np.ndarray, node: dict) -> int:\n",
    "        \"\"\"\n",
    "        Предсказание начинается с корневой вершины дерева и рекурсивно идёт в левое или правое поддерево в зависимости от значения\n",
    "        предиката на объекте. Листовая вершина возвращает предсказание.\n",
    "        :param x: np.array, элемент выборки\n",
    "        :param node: dict, вершина дерева\n",
    "        \"\"\"\n",
    "        if node['type'] == 'terminal':\n",
    "            return node['class'] # Для листовой вершины просто выдаем класс\n",
    "        \n",
    "        if self._feature_types[node[\"feature_split\"]] == 'categorical': # Если признак, по которому нужно разбивать вершину, категориальный, то проверяем соответствие этого признака категории и относим к одной из двух дочерних вершин\n",
    "            if x[node['feature_split']] == node['category_split']:\n",
    "                return self._predict_node(x, node['left_child'])\n",
    "            else:\n",
    "                return self._predict_node(x, node['right_child'])\n",
    "        \n",
    "        if self._feature_types[node[\"feature_split\"]] == 'real': # Если значимый признак вещественный, то проверяем признак по порогу (больше или меньше) и относим к одной из двух дочерних вершин\n",
    "            if x[node['feature_split']] <= node['category_split']:\n",
    "                return self._predict_node(x, node['left_child'])\n",
    "            else:\n",
    "                return self._predict_node(x, node['right_child'])\n",
    "        pass\n",
    "\n",
    "    def fit(self, X: np.ndarray, y: np.ndarray) -> None:\n",
    "        self._fit_node(X, y, self._tree)\n",
    "\n",
    "    def predict(self, X: np.ndarray) -> np.ndarray:\n",
    "        predicted = []\n",
    "        for x in X:\n",
    "            predicted.append(self._predict_node(x, self._tree))\n",
    "        return np.array(predicted)"
   ]
  },
  {
   "cell_type": "markdown",
   "metadata": {},
   "source": [
    "**Задание 2.3 (1 балл)** Загрузите таблицу `students.csv` (это немного преобразованный датасет [User Knowledge](https://archive.ics.uci.edu/ml/datasets/User+Knowledge+Modeling)). В ней признаки объекта записаны в первых пяти столбцах, а в последнем записана целевая переменная (класс: 0 или 1). Постройте на одном изображении пять кривых \"порог — значение критерия Джини\" для всех пяти признаков. Отдельно визуализируйте диаграммы рассеяния \"значение признака — класс\" для всех пяти признаков."
   ]
  },
  {
   "cell_type": "code",
   "execution_count": 12,
   "metadata": {
    "scrolled": true
   },
   "outputs": [
    {
     "data": {
      "text/html": [
       "<div>\n",
       "<style scoped>\n",
       "    .dataframe tbody tr th:only-of-type {\n",
       "        vertical-align: middle;\n",
       "    }\n",
       "\n",
       "    .dataframe tbody tr th {\n",
       "        vertical-align: top;\n",
       "    }\n",
       "\n",
       "    .dataframe thead th {\n",
       "        text-align: right;\n",
       "    }\n",
       "</style>\n",
       "<table border=\"1\" class=\"dataframe\">\n",
       "  <thead>\n",
       "    <tr style=\"text-align: right;\">\n",
       "      <th></th>\n",
       "      <th>STG</th>\n",
       "      <th>SCG</th>\n",
       "      <th>STR</th>\n",
       "      <th>LPR</th>\n",
       "      <th>PEG</th>\n",
       "    </tr>\n",
       "  </thead>\n",
       "  <tbody>\n",
       "    <tr>\n",
       "      <th>0</th>\n",
       "      <td>0.00</td>\n",
       "      <td>0.00</td>\n",
       "      <td>0.00</td>\n",
       "      <td>0.00</td>\n",
       "      <td>0.00</td>\n",
       "    </tr>\n",
       "    <tr>\n",
       "      <th>1</th>\n",
       "      <td>0.08</td>\n",
       "      <td>0.08</td>\n",
       "      <td>0.10</td>\n",
       "      <td>0.24</td>\n",
       "      <td>0.90</td>\n",
       "    </tr>\n",
       "    <tr>\n",
       "      <th>2</th>\n",
       "      <td>0.06</td>\n",
       "      <td>0.06</td>\n",
       "      <td>0.05</td>\n",
       "      <td>0.25</td>\n",
       "      <td>0.33</td>\n",
       "    </tr>\n",
       "    <tr>\n",
       "      <th>3</th>\n",
       "      <td>0.10</td>\n",
       "      <td>0.10</td>\n",
       "      <td>0.15</td>\n",
       "      <td>0.65</td>\n",
       "      <td>0.30</td>\n",
       "    </tr>\n",
       "    <tr>\n",
       "      <th>4</th>\n",
       "      <td>0.08</td>\n",
       "      <td>0.08</td>\n",
       "      <td>0.08</td>\n",
       "      <td>0.98</td>\n",
       "      <td>0.24</td>\n",
       "    </tr>\n",
       "    <tr>\n",
       "      <th>...</th>\n",
       "      <td>...</td>\n",
       "      <td>...</td>\n",
       "      <td>...</td>\n",
       "      <td>...</td>\n",
       "      <td>...</td>\n",
       "    </tr>\n",
       "    <tr>\n",
       "      <th>253</th>\n",
       "      <td>0.61</td>\n",
       "      <td>0.78</td>\n",
       "      <td>0.69</td>\n",
       "      <td>0.92</td>\n",
       "      <td>0.58</td>\n",
       "    </tr>\n",
       "    <tr>\n",
       "      <th>254</th>\n",
       "      <td>0.78</td>\n",
       "      <td>0.61</td>\n",
       "      <td>0.71</td>\n",
       "      <td>0.19</td>\n",
       "      <td>0.60</td>\n",
       "    </tr>\n",
       "    <tr>\n",
       "      <th>255</th>\n",
       "      <td>0.54</td>\n",
       "      <td>0.82</td>\n",
       "      <td>0.71</td>\n",
       "      <td>0.29</td>\n",
       "      <td>0.77</td>\n",
       "    </tr>\n",
       "    <tr>\n",
       "      <th>256</th>\n",
       "      <td>0.50</td>\n",
       "      <td>0.75</td>\n",
       "      <td>0.81</td>\n",
       "      <td>0.61</td>\n",
       "      <td>0.26</td>\n",
       "    </tr>\n",
       "    <tr>\n",
       "      <th>257</th>\n",
       "      <td>0.66</td>\n",
       "      <td>0.90</td>\n",
       "      <td>0.76</td>\n",
       "      <td>0.87</td>\n",
       "      <td>0.74</td>\n",
       "    </tr>\n",
       "  </tbody>\n",
       "</table>\n",
       "<p>258 rows × 5 columns</p>\n",
       "</div>"
      ],
      "text/plain": [
       "      STG   SCG   STR   LPR   PEG\n",
       "0    0.00  0.00  0.00  0.00  0.00\n",
       "1    0.08  0.08  0.10  0.24  0.90\n",
       "2    0.06  0.06  0.05  0.25  0.33\n",
       "3    0.10  0.10  0.15  0.65  0.30\n",
       "4    0.08  0.08  0.08  0.98  0.24\n",
       "..    ...   ...   ...   ...   ...\n",
       "253  0.61  0.78  0.69  0.92  0.58\n",
       "254  0.78  0.61  0.71  0.19  0.60\n",
       "255  0.54  0.82  0.71  0.29  0.77\n",
       "256  0.50  0.75  0.81  0.61  0.26\n",
       "257  0.66  0.90  0.76  0.87  0.74\n",
       "\n",
       "[258 rows x 5 columns]"
      ]
     },
     "execution_count": 12,
     "metadata": {},
     "output_type": "execute_result"
    }
   ],
   "source": [
    "data = pd.read_csv('students.csv')\n",
    "X = data.drop('UNS', axis = 1) # Удаляем столбец с ответами\n",
    "X = X.drop(X.columns[0], axis = 1) # Неинформативный признак, тоже удаляем\n",
    "y = data['UNS'] # Отдельный столбец с ответами\n",
    "X"
   ]
  },
  {
   "cell_type": "code",
   "execution_count": 13,
   "metadata": {
    "scrolled": false
   },
   "outputs": [
    {
     "data": {
      "image/png": "[encoded data removed]",
      "text/plain": [
       "<Figure size 792x360 with 1 Axes>"
      ]
     },
     "metadata": {
      "needs_background": "light"
     },
     "output_type": "display_data"
    }
   ],
   "source": [
    "plt.figure(figsize=(11, 5))\n",
    "\n",
    "plt.title('Зависимость критерия информативности от порога для каждого признака')\n",
    "plt.plot(find_best_split(X['STG'], y, 'classification', 'real')[0], find_best_split(X['STG'], y, 'classification', 'real')[1], 'c', label = 'STG')\n",
    "plt.plot(find_best_split(X['SCG'], y, 'classification', 'real')[0], find_best_split(X['SCG'], y, 'classification', 'real')[1], 'm', label = 'SCG')\n",
    "plt.plot(find_best_split(X['STR'], y, 'classification', 'real')[0], find_best_split(X['STR'], y, 'classification', 'real')[1], 'b', label = 'STR')\n",
    "plt.plot(find_best_split(X['LPR'], y, 'classification', 'real')[0], find_best_split(X['LPR'], y, 'classification', 'real')[1], 'r', label = 'LPR')\n",
    "plt.plot(find_best_split(X['PEG'], y, 'classification', 'real')[0], find_best_split(X['PEG'], y, 'classification', 'real')[1], 'y', label = 'PEG')\n",
    "\n",
    "plt.legend()\n",
    "plt.grid()\n",
    "plt.show()"
   ]
  },
  {
   "cell_type": "code",
   "execution_count": 14,
   "metadata": {
    "scrolled": true
   },
   "outputs": [
    {
     "data": {
      "image/png": "[encoded data removed]",
      "text/plain": [
       "<Figure size 640x1120 with 5 Axes>"
      ]
     },
     "metadata": {
      "needs_background": "light"
     },
     "output_type": "display_data"
    }
   ],
   "source": [
    "# Диаграммы рассеяния\n",
    "\n",
    "fig, axs = plt.subplots(5, 1, figsize=(8, 14), dpi=80)\n",
    "\n",
    "axs[0].scatter(X['STG'], y, s = 20, color = 'c', label = 'STG')\n",
    "axs[1].scatter(X['SCG'], y, s = 20, color = 'm', label = 'SCG')\n",
    "axs[2].scatter(X['STR'], y, s = 20, color = 'b', label = 'STR')\n",
    "axs[3].scatter(X['LPR'], y, s = 20, color = 'r', label = 'LPR')\n",
    "axs[4].scatter(X['PEG'], y, s = 20, color = 'y', label = 'PEG')\n",
    "\n",
    "fig.legend()\n",
    "plt.show()"
   ]
  },
  {
   "cell_type": "markdown",
   "metadata": {},
   "source": [
    "Исходя из кривых значений критерия Джини, по какому признаку нужно производить деление выборки на два поддерева? Согласуется ли этот результат с визуальной оценкой диаграмм рассеяиния? Как бы охарактеризовали вид кривой для \"хороших\" признаков, по которым выборка делится почти идеально? Чем отличаются кривые для признаков, по которым деление практически невозможно?"
   ]
  },
  {
   "cell_type": "markdown",
   "metadata": {},
   "source": [
    "Исходя из кривых значений критериев информативности, деление выборки нужно производить по признаку PEG. Результат согласуется с визуальной оценкой, два класса можно поделить именно по этому признаку.\n",
    "\n",
    "Для \"хороших\" признаков кривая напоминает колокол с максимумов в лучшем пороге, а для \"плохих\" признаков эта кривая будет колебатся около одних и тех же низких значений."
   ]
  },
  {
   "cell_type": "markdown",
   "metadata": {},
   "source": [
    "**Задание 2.4 (1 балл)** Протестируйте свое решающее дерево на датасете [mushrooms](https://archive.ics.uci.edu/ml/datasets/Mushroom). \n",
    "\n",
    "1. Скачайте таблицу `agaricus-lepiota.data` (из [Data Folder](https://archive.ics.uci.edu/ml/machine-learning-databases/mushroom/)), \n",
    "2. Считайте таблицу при помощи `pandas`,\n",
    "3. Примените к каждому столбцу `LabelEncoder` (из `sklearn`), чтобы преобразовать строковые имена категорий в натуральные числа. \n",
    "\n",
    "Первый столбец — это целевая переменная (e — edible, p — poisonous) Мы будем измерять качество с помощью accuracy, так что нам не очень важно, что будет классом 1, а что — классом 0. Обучите решающее дерево на половине случайно выбранных объектов (признаки в датасете категориальные) и сделайте предсказания для оставшейся половины. Вычислите accuracy."
   ]
  },
  {
   "cell_type": "code",
   "execution_count": 15,
   "metadata": {},
   "outputs": [],
   "source": [
    "from sklearn import preprocessing"
   ]
  },
  {
   "cell_type": "code",
   "execution_count": 16,
   "metadata": {
    "scrolled": false
   },
   "outputs": [
    {
     "data": {
      "text/html": [
       "<div>\n",
       "<style scoped>\n",
       "    .dataframe tbody tr th:only-of-type {\n",
       "        vertical-align: middle;\n",
       "    }\n",
       "\n",
       "    .dataframe tbody tr th {\n",
       "        vertical-align: top;\n",
       "    }\n",
       "\n",
       "    .dataframe thead th {\n",
       "        text-align: right;\n",
       "    }\n",
       "</style>\n",
       "<table border=\"1\" class=\"dataframe\">\n",
       "  <thead>\n",
       "    <tr style=\"text-align: right;\">\n",
       "      <th></th>\n",
       "      <th>x</th>\n",
       "      <th>s</th>\n",
       "      <th>n</th>\n",
       "      <th>t</th>\n",
       "      <th>p.1</th>\n",
       "      <th>f</th>\n",
       "      <th>c</th>\n",
       "      <th>n.1</th>\n",
       "      <th>k</th>\n",
       "      <th>e</th>\n",
       "      <th>...</th>\n",
       "      <th>s.2</th>\n",
       "      <th>w</th>\n",
       "      <th>w.1</th>\n",
       "      <th>p.2</th>\n",
       "      <th>w.2</th>\n",
       "      <th>o</th>\n",
       "      <th>p.3</th>\n",
       "      <th>k.1</th>\n",
       "      <th>s.3</th>\n",
       "      <th>u</th>\n",
       "    </tr>\n",
       "  </thead>\n",
       "  <tbody>\n",
       "    <tr>\n",
       "      <th>0</th>\n",
       "      <td>5</td>\n",
       "      <td>2</td>\n",
       "      <td>9</td>\n",
       "      <td>1</td>\n",
       "      <td>0</td>\n",
       "      <td>1</td>\n",
       "      <td>0</td>\n",
       "      <td>0</td>\n",
       "      <td>4</td>\n",
       "      <td>0</td>\n",
       "      <td>...</td>\n",
       "      <td>2</td>\n",
       "      <td>7</td>\n",
       "      <td>7</td>\n",
       "      <td>0</td>\n",
       "      <td>2</td>\n",
       "      <td>1</td>\n",
       "      <td>4</td>\n",
       "      <td>3</td>\n",
       "      <td>2</td>\n",
       "      <td>1</td>\n",
       "    </tr>\n",
       "    <tr>\n",
       "      <th>1</th>\n",
       "      <td>0</td>\n",
       "      <td>2</td>\n",
       "      <td>8</td>\n",
       "      <td>1</td>\n",
       "      <td>3</td>\n",
       "      <td>1</td>\n",
       "      <td>0</td>\n",
       "      <td>0</td>\n",
       "      <td>5</td>\n",
       "      <td>0</td>\n",
       "      <td>...</td>\n",
       "      <td>2</td>\n",
       "      <td>7</td>\n",
       "      <td>7</td>\n",
       "      <td>0</td>\n",
       "      <td>2</td>\n",
       "      <td>1</td>\n",
       "      <td>4</td>\n",
       "      <td>3</td>\n",
       "      <td>2</td>\n",
       "      <td>3</td>\n",
       "    </tr>\n",
       "    <tr>\n",
       "      <th>2</th>\n",
       "      <td>5</td>\n",
       "      <td>3</td>\n",
       "      <td>8</td>\n",
       "      <td>1</td>\n",
       "      <td>6</td>\n",
       "      <td>1</td>\n",
       "      <td>0</td>\n",
       "      <td>1</td>\n",
       "      <td>5</td>\n",
       "      <td>0</td>\n",
       "      <td>...</td>\n",
       "      <td>2</td>\n",
       "      <td>7</td>\n",
       "      <td>7</td>\n",
       "      <td>0</td>\n",
       "      <td>2</td>\n",
       "      <td>1</td>\n",
       "      <td>4</td>\n",
       "      <td>2</td>\n",
       "      <td>3</td>\n",
       "      <td>5</td>\n",
       "    </tr>\n",
       "    <tr>\n",
       "      <th>3</th>\n",
       "      <td>5</td>\n",
       "      <td>2</td>\n",
       "      <td>3</td>\n",
       "      <td>0</td>\n",
       "      <td>5</td>\n",
       "      <td>1</td>\n",
       "      <td>1</td>\n",
       "      <td>0</td>\n",
       "      <td>4</td>\n",
       "      <td>1</td>\n",
       "      <td>...</td>\n",
       "      <td>2</td>\n",
       "      <td>7</td>\n",
       "      <td>7</td>\n",
       "      <td>0</td>\n",
       "      <td>2</td>\n",
       "      <td>1</td>\n",
       "      <td>0</td>\n",
       "      <td>3</td>\n",
       "      <td>0</td>\n",
       "      <td>1</td>\n",
       "    </tr>\n",
       "    <tr>\n",
       "      <th>4</th>\n",
       "      <td>5</td>\n",
       "      <td>3</td>\n",
       "      <td>9</td>\n",
       "      <td>1</td>\n",
       "      <td>0</td>\n",
       "      <td>1</td>\n",
       "      <td>0</td>\n",
       "      <td>0</td>\n",
       "      <td>5</td>\n",
       "      <td>0</td>\n",
       "      <td>...</td>\n",
       "      <td>2</td>\n",
       "      <td>7</td>\n",
       "      <td>7</td>\n",
       "      <td>0</td>\n",
       "      <td>2</td>\n",
       "      <td>1</td>\n",
       "      <td>4</td>\n",
       "      <td>2</td>\n",
       "      <td>2</td>\n",
       "      <td>1</td>\n",
       "    </tr>\n",
       "    <tr>\n",
       "      <th>...</th>\n",
       "      <td>...</td>\n",
       "      <td>...</td>\n",
       "      <td>...</td>\n",
       "      <td>...</td>\n",
       "      <td>...</td>\n",
       "      <td>...</td>\n",
       "      <td>...</td>\n",
       "      <td>...</td>\n",
       "      <td>...</td>\n",
       "      <td>...</td>\n",
       "      <td>...</td>\n",
       "      <td>...</td>\n",
       "      <td>...</td>\n",
       "      <td>...</td>\n",
       "      <td>...</td>\n",
       "      <td>...</td>\n",
       "      <td>...</td>\n",
       "      <td>...</td>\n",
       "      <td>...</td>\n",
       "      <td>...</td>\n",
       "      <td>...</td>\n",
       "    </tr>\n",
       "    <tr>\n",
       "      <th>8118</th>\n",
       "      <td>3</td>\n",
       "      <td>2</td>\n",
       "      <td>4</td>\n",
       "      <td>0</td>\n",
       "      <td>5</td>\n",
       "      <td>0</td>\n",
       "      <td>0</td>\n",
       "      <td>0</td>\n",
       "      <td>11</td>\n",
       "      <td>0</td>\n",
       "      <td>...</td>\n",
       "      <td>2</td>\n",
       "      <td>5</td>\n",
       "      <td>5</td>\n",
       "      <td>0</td>\n",
       "      <td>1</td>\n",
       "      <td>1</td>\n",
       "      <td>4</td>\n",
       "      <td>0</td>\n",
       "      <td>1</td>\n",
       "      <td>2</td>\n",
       "    </tr>\n",
       "    <tr>\n",
       "      <th>8119</th>\n",
       "      <td>5</td>\n",
       "      <td>2</td>\n",
       "      <td>4</td>\n",
       "      <td>0</td>\n",
       "      <td>5</td>\n",
       "      <td>0</td>\n",
       "      <td>0</td>\n",
       "      <td>0</td>\n",
       "      <td>11</td>\n",
       "      <td>0</td>\n",
       "      <td>...</td>\n",
       "      <td>2</td>\n",
       "      <td>5</td>\n",
       "      <td>5</td>\n",
       "      <td>0</td>\n",
       "      <td>0</td>\n",
       "      <td>1</td>\n",
       "      <td>4</td>\n",
       "      <td>0</td>\n",
       "      <td>4</td>\n",
       "      <td>2</td>\n",
       "    </tr>\n",
       "    <tr>\n",
       "      <th>8120</th>\n",
       "      <td>2</td>\n",
       "      <td>2</td>\n",
       "      <td>4</td>\n",
       "      <td>0</td>\n",
       "      <td>5</td>\n",
       "      <td>0</td>\n",
       "      <td>0</td>\n",
       "      <td>0</td>\n",
       "      <td>5</td>\n",
       "      <td>0</td>\n",
       "      <td>...</td>\n",
       "      <td>2</td>\n",
       "      <td>5</td>\n",
       "      <td>5</td>\n",
       "      <td>0</td>\n",
       "      <td>1</td>\n",
       "      <td>1</td>\n",
       "      <td>4</td>\n",
       "      <td>0</td>\n",
       "      <td>1</td>\n",
       "      <td>2</td>\n",
       "    </tr>\n",
       "    <tr>\n",
       "      <th>8121</th>\n",
       "      <td>3</td>\n",
       "      <td>3</td>\n",
       "      <td>4</td>\n",
       "      <td>0</td>\n",
       "      <td>8</td>\n",
       "      <td>1</td>\n",
       "      <td>0</td>\n",
       "      <td>1</td>\n",
       "      <td>0</td>\n",
       "      <td>1</td>\n",
       "      <td>...</td>\n",
       "      <td>1</td>\n",
       "      <td>7</td>\n",
       "      <td>7</td>\n",
       "      <td>0</td>\n",
       "      <td>2</td>\n",
       "      <td>1</td>\n",
       "      <td>0</td>\n",
       "      <td>7</td>\n",
       "      <td>4</td>\n",
       "      <td>2</td>\n",
       "    </tr>\n",
       "    <tr>\n",
       "      <th>8122</th>\n",
       "      <td>5</td>\n",
       "      <td>2</td>\n",
       "      <td>4</td>\n",
       "      <td>0</td>\n",
       "      <td>5</td>\n",
       "      <td>0</td>\n",
       "      <td>0</td>\n",
       "      <td>0</td>\n",
       "      <td>11</td>\n",
       "      <td>0</td>\n",
       "      <td>...</td>\n",
       "      <td>2</td>\n",
       "      <td>5</td>\n",
       "      <td>5</td>\n",
       "      <td>0</td>\n",
       "      <td>1</td>\n",
       "      <td>1</td>\n",
       "      <td>4</td>\n",
       "      <td>4</td>\n",
       "      <td>1</td>\n",
       "      <td>2</td>\n",
       "    </tr>\n",
       "  </tbody>\n",
       "</table>\n",
       "<p>8123 rows × 22 columns</p>\n",
       "</div>"
      ],
      "text/plain": [
       "      x  s  n  t  p.1  f  c  n.1   k  e  ...  s.2  w  w.1  p.2  w.2  o  p.3  \\\n",
       "0     5  2  9  1    0  1  0    0   4  0  ...    2  7    7    0    2  1    4   \n",
       "1     0  2  8  1    3  1  0    0   5  0  ...    2  7    7    0    2  1    4   \n",
       "2     5  3  8  1    6  1  0    1   5  0  ...    2  7    7    0    2  1    4   \n",
       "3     5  2  3  0    5  1  1    0   4  1  ...    2  7    7    0    2  1    0   \n",
       "4     5  3  9  1    0  1  0    0   5  0  ...    2  7    7    0    2  1    4   \n",
       "...  .. .. .. ..  ... .. ..  ...  .. ..  ...  ... ..  ...  ...  ... ..  ...   \n",
       "8118  3  2  4  0    5  0  0    0  11  0  ...    2  5    5    0    1  1    4   \n",
       "8119  5  2  4  0    5  0  0    0  11  0  ...    2  5    5    0    0  1    4   \n",
       "8120  2  2  4  0    5  0  0    0   5  0  ...    2  5    5    0    1  1    4   \n",
       "8121  3  3  4  0    8  1  0    1   0  1  ...    1  7    7    0    2  1    0   \n",
       "8122  5  2  4  0    5  0  0    0  11  0  ...    2  5    5    0    1  1    4   \n",
       "\n",
       "      k.1  s.3  u  \n",
       "0       3    2  1  \n",
       "1       3    2  3  \n",
       "2       2    3  5  \n",
       "3       3    0  1  \n",
       "4       2    2  1  \n",
       "...   ...  ... ..  \n",
       "8118    0    1  2  \n",
       "8119    0    4  2  \n",
       "8120    0    1  2  \n",
       "8121    7    4  2  \n",
       "8122    4    1  2  \n",
       "\n",
       "[8123 rows x 22 columns]"
      ]
     },
     "execution_count": 16,
     "metadata": {},
     "output_type": "execute_result"
    }
   ],
   "source": [
    "mushrooms = pd.read_csv('agaricus-lepiota.data')\n",
    "le = preprocessing.LabelEncoder()\n",
    "for column in mushrooms.columns.to_list():\n",
    "    le.fit(mushrooms[column])\n",
    "    mushrooms[column] = le.transform(mushrooms[column])\n",
    "\n",
    "X = mushrooms.drop(mushrooms.columns[0], axis = 1)\n",
    "y = mushrooms[mushrooms.columns[0]]\n",
    "X"
   ]
  },
  {
   "cell_type": "code",
   "execution_count": 18,
   "metadata": {},
   "outputs": [],
   "source": [
    "from sklearn.model_selection import train_test_split"
   ]
  },
  {
   "cell_type": "code",
   "execution_count": 19,
   "metadata": {},
   "outputs": [
    {
     "name": "stdout",
     "output_type": "stream",
     "text": [
      "[0 0 1 ... 0 0 0]\n",
      "Accuracy is 0.9985228951255539\n"
     ]
    }
   ],
   "source": [
    "X_train, X_test, y_train, y_test = train_test_split(X, y, test_size=0.5, random_state = 15)\n",
    "\n",
    "feature_types = ['categorical'] * X_train.shape[1]\n",
    "DT = DecisionTree(feature_types)\n",
    "DT.fit(X_train.to_numpy(), np.array(y_train))\n",
    "\n",
    "print(DT.predict(X_test.to_numpy())) # predictions\n",
    "print(f'Accuracy is {np.mean(DT.predict(X_test.to_numpy()) == y_test)}') # accuracy вручную"
   ]
  },
  {
   "cell_type": "markdown",
   "metadata": {},
   "source": [
    "## Часть 3: Бэггинг и случайный лес (4 балла)"
   ]
  },
  {
   "cell_type": "markdown",
   "metadata": {},
   "source": [
    "В данной части мы будем работать [с задачей предсказания диабета у пациента](https://www.kaggle.com/uciml/pima-indians-diabetes-database/data). Посмотрим на работу бэггинга над решающими деревьями и случайного леса, сравним их работу."
   ]
  },
  {
   "cell_type": "code",
   "execution_count": 20,
   "metadata": {},
   "outputs": [],
   "source": [
    "from sklearn.ensemble import BaggingClassifier, RandomForestClassifier\n",
    "from sklearn.metrics import accuracy_score, precision_score, recall_score, roc_auc_score\n",
    "from sklearn.tree import DecisionTreeClassifier"
   ]
  },
  {
   "cell_type": "code",
   "execution_count": 21,
   "metadata": {
    "scrolled": true
   },
   "outputs": [
    {
     "name": "stdout",
     "output_type": "stream",
     "text": [
      "Dataset shape: (768, 9)\n"
     ]
    },
    {
     "data": {
      "text/html": [
       "<div>\n",
       "<style scoped>\n",
       "    .dataframe tbody tr th:only-of-type {\n",
       "        vertical-align: middle;\n",
       "    }\n",
       "\n",
       "    .dataframe tbody tr th {\n",
       "        vertical-align: top;\n",
       "    }\n",
       "\n",
       "    .dataframe thead th {\n",
       "        text-align: right;\n",
       "    }\n",
       "</style>\n",
       "<table border=\"1\" class=\"dataframe\">\n",
       "  <thead>\n",
       "    <tr style=\"text-align: right;\">\n",
       "      <th></th>\n",
       "      <th>Pregnancies</th>\n",
       "      <th>Glucose</th>\n",
       "      <th>BloodPressure</th>\n",
       "      <th>SkinThickness</th>\n",
       "      <th>Insulin</th>\n",
       "      <th>BMI</th>\n",
       "      <th>DiabetesPedigreeFunction</th>\n",
       "      <th>Age</th>\n",
       "      <th>Outcome</th>\n",
       "    </tr>\n",
       "  </thead>\n",
       "  <tbody>\n",
       "    <tr>\n",
       "      <th>0</th>\n",
       "      <td>6</td>\n",
       "      <td>148</td>\n",
       "      <td>72</td>\n",
       "      <td>35</td>\n",
       "      <td>0</td>\n",
       "      <td>33.6</td>\n",
       "      <td>0.627</td>\n",
       "      <td>50</td>\n",
       "      <td>1</td>\n",
       "    </tr>\n",
       "    <tr>\n",
       "      <th>1</th>\n",
       "      <td>1</td>\n",
       "      <td>85</td>\n",
       "      <td>66</td>\n",
       "      <td>29</td>\n",
       "      <td>0</td>\n",
       "      <td>26.6</td>\n",
       "      <td>0.351</td>\n",
       "      <td>31</td>\n",
       "      <td>0</td>\n",
       "    </tr>\n",
       "    <tr>\n",
       "      <th>2</th>\n",
       "      <td>8</td>\n",
       "      <td>183</td>\n",
       "      <td>64</td>\n",
       "      <td>0</td>\n",
       "      <td>0</td>\n",
       "      <td>23.3</td>\n",
       "      <td>0.672</td>\n",
       "      <td>32</td>\n",
       "      <td>1</td>\n",
       "    </tr>\n",
       "    <tr>\n",
       "      <th>3</th>\n",
       "      <td>1</td>\n",
       "      <td>89</td>\n",
       "      <td>66</td>\n",
       "      <td>23</td>\n",
       "      <td>94</td>\n",
       "      <td>28.1</td>\n",
       "      <td>0.167</td>\n",
       "      <td>21</td>\n",
       "      <td>0</td>\n",
       "    </tr>\n",
       "    <tr>\n",
       "      <th>4</th>\n",
       "      <td>0</td>\n",
       "      <td>137</td>\n",
       "      <td>40</td>\n",
       "      <td>35</td>\n",
       "      <td>168</td>\n",
       "      <td>43.1</td>\n",
       "      <td>2.288</td>\n",
       "      <td>33</td>\n",
       "      <td>1</td>\n",
       "    </tr>\n",
       "  </tbody>\n",
       "</table>\n",
       "</div>"
      ],
      "text/plain": [
       "   Pregnancies  Glucose  BloodPressure  SkinThickness  Insulin   BMI  \\\n",
       "0            6      148             72             35        0  33.6   \n",
       "1            1       85             66             29        0  26.6   \n",
       "2            8      183             64              0        0  23.3   \n",
       "3            1       89             66             23       94  28.1   \n",
       "4            0      137             40             35      168  43.1   \n",
       "\n",
       "   DiabetesPedigreeFunction  Age  Outcome  \n",
       "0                     0.627   50        1  \n",
       "1                     0.351   31        0  \n",
       "2                     0.672   32        1  \n",
       "3                     0.167   21        0  \n",
       "4                     2.288   33        1  "
      ]
     },
     "execution_count": 21,
     "metadata": {},
     "output_type": "execute_result"
    }
   ],
   "source": [
    "data = pd.read_csv('diabetes.csv')\n",
    "print(f\"Dataset shape: {data.shape}\")\n",
    "data.head()"
   ]
  },
  {
   "cell_type": "markdown",
   "metadata": {},
   "source": [
    "Посмотрим на распределение целевой переменной"
   ]
  },
  {
   "cell_type": "code",
   "execution_count": 22,
   "metadata": {},
   "outputs": [
    {
     "data": {
      "image/png": "[encoded data removed]",
      "text/plain": [
       "<Figure size 432x288 with 1 Axes>"
      ]
     },
     "metadata": {
      "needs_background": "light"
     },
     "output_type": "display_data"
    }
   ],
   "source": [
    "data['Outcome'].hist()\n",
    "plt.show()"
   ]
  },
  {
   "cell_type": "markdown",
   "metadata": {},
   "source": [
    "**Задание 3.1 (0.5 балла)** Разделите данные на признаки и целевую переменную. Разбейте датасет на обучающую и тестовую части в отношении 7:3. Затем разделите обучающую выборку на обучающую-обучающую и обучающую-валидационную в соотношении 7:3 (то есть в итоге должно получиться три выборки: обучающая-обучающая (0.49 от исходного датасета), обучающая-валидационная (0.21 от исходного датасета) и тестовая (0.3 от исходного датасета)."
   ]
  },
  {
   "cell_type": "code",
   "execution_count": 23,
   "metadata": {},
   "outputs": [],
   "source": [
    "X = data.drop(columns = ['Outcome'], axis = 1)\n",
    "Y = data['Outcome']\n",
    "\n",
    "X_train, X_test, y_train, y_test = train_test_split(X, Y, test_size=0.3, random_state = 42)\n",
    "X_train_train, X_valid, y_train_train, y_valid = train_test_split(X_train, y_train, test_size = 0.3, random_state = 43)"
   ]
  },
  {
   "cell_type": "code",
   "execution_count": 24,
   "metadata": {},
   "outputs": [
    {
     "data": {
      "text/plain": [
       "array([0.48828125, 0.2109375 , 0.30078125])"
      ]
     },
     "execution_count": 24,
     "metadata": {},
     "output_type": "execute_result"
    }
   ],
   "source": [
    "# Проверим соотношение размеров выборок\n",
    "check = np.array([X_train_train.shape[0], X_valid.shape[0], X_test.shape[0]])\n",
    "check = check / sum(check)\n",
    "check"
   ]
  },
  {
   "cell_type": "markdown",
   "metadata": {},
   "source": [
    "**Задание 3.2 (1 балл)** На обучающей-валидационной выборке подберите оптимальные значения гиперпараметров `max_depth` и `min_samples_leaf` для `DecisionTreeClassifier`. Для этого:\n",
    "1. Создайте списки с возможными значениями для перебора.\n",
    "2. Для каждой пары значений обучите дерево на обучающей-обучающей выборке и определите качество на обучающей-валидационной выборке. В качестве критерия будем использовать `f1-меру`.\n",
    "3. Выберите ту пару значений, которая даёт наилучшее качество на обучающей-валидационной выборке. \n",
    "\n",
    "\n",
    "Обучите решающее дерево с подобранными гиперпараметрами на **полной обучающей** выборке. Оцените качество классификации на тестовой выборке по метрикам `accuracy`, `precision` и `recall`, `auc_roc`."
   ]
  },
  {
   "cell_type": "code",
   "execution_count": 25,
   "metadata": {},
   "outputs": [],
   "source": [
    "from sklearn.metrics import f1_score"
   ]
  },
  {
   "cell_type": "code",
   "execution_count": 26,
   "metadata": {},
   "outputs": [
    {
     "name": "stdout",
     "output_type": "stream",
     "text": [
      "F1 score for max depth = 1 and min_sample_leaf = 1: 0.4146341463414634\n",
      "F1 score for max depth = 1 and min_sample_leaf = 3: 0.4146341463414634\n",
      "F1 score for max depth = 1 and min_sample_leaf = 5: 0.4146341463414634\n",
      "F1 score for max depth = 1 and min_sample_leaf = 10: 0.4146341463414634\n",
      "F1 score for max depth = 1 and min_sample_leaf = 15: 0.4146341463414634\n",
      "F1 score for max depth = 1 and min_sample_leaf = 20: 0.4146341463414634\n",
      "F1 score for max depth = 1 and min_sample_leaf = 30: 0.4146341463414634\n",
      "F1 score for max depth = 1 and min_sample_leaf = 50: 0.4146341463414634\n",
      "F1 score for max depth = 1 and min_sample_leaf = 75: 0.5217391304347826\n",
      "F1 score for max depth = 1 and min_sample_leaf = 100: 0.6271186440677966\n",
      "F1 score for max depth = 2 and min_sample_leaf = 1: 0.4146341463414634\n",
      "F1 score for max depth = 2 and min_sample_leaf = 3: 0.4146341463414634\n",
      "F1 score for max depth = 2 and min_sample_leaf = 5: 0.4146341463414634\n",
      "F1 score for max depth = 2 and min_sample_leaf = 10: 0.4146341463414634\n",
      "F1 score for max depth = 2 and min_sample_leaf = 15: 0.4146341463414634\n",
      "F1 score for max depth = 2 and min_sample_leaf = 20: 0.4146341463414634\n",
      "F1 score for max depth = 2 and min_sample_leaf = 30: 0.4146341463414634\n",
      "F1 score for max depth = 2 and min_sample_leaf = 50: 0.4146341463414634\n",
      "F1 score for max depth = 2 and min_sample_leaf = 75: 0.5217391304347826\n",
      "F1 score for max depth = 2 and min_sample_leaf = 100: 0.6271186440677966\n",
      "F1 score for max depth = 3 and min_sample_leaf = 1: 0.375\n",
      "F1 score for max depth = 3 and min_sample_leaf = 3: 0.375\n",
      "F1 score for max depth = 3 and min_sample_leaf = 5: 0.39506172839506176\n",
      "F1 score for max depth = 3 and min_sample_leaf = 10: 0.4146341463414634\n",
      "F1 score for max depth = 3 and min_sample_leaf = 15: 0.4146341463414634\n",
      "F1 score for max depth = 3 and min_sample_leaf = 20: 0.4146341463414634\n",
      "F1 score for max depth = 3 and min_sample_leaf = 30: 0.4146341463414634\n",
      "F1 score for max depth = 3 and min_sample_leaf = 50: 0.5511811023622047\n",
      "F1 score for max depth = 3 and min_sample_leaf = 75: 0.5217391304347826\n",
      "F1 score for max depth = 3 and min_sample_leaf = 100: 0.6271186440677966\n",
      "F1 score for max depth = 4 and min_sample_leaf = 1: 0.6423357664233578\n",
      "F1 score for max depth = 4 and min_sample_leaf = 3: 0.6423357664233578\n",
      "F1 score for max depth = 4 and min_sample_leaf = 5: 0.6666666666666666\n",
      "F1 score for max depth = 4 and min_sample_leaf = 10: 0.6618705035971222\n",
      "F1 score for max depth = 4 and min_sample_leaf = 15: 0.6618705035971222\n",
      "F1 score for max depth = 4 and min_sample_leaf = 20: 0.6618705035971222\n",
      "F1 score for max depth = 4 and min_sample_leaf = 30: 0.6065573770491803\n",
      "F1 score for max depth = 4 and min_sample_leaf = 50: 0.5511811023622047\n",
      "F1 score for max depth = 4 and min_sample_leaf = 75: 0.5217391304347826\n",
      "F1 score for max depth = 4 and min_sample_leaf = 100: 0.6271186440677966\n",
      "F1 score for max depth = 5 and min_sample_leaf = 1: 0.6417910447761194\n",
      "F1 score for max depth = 5 and min_sample_leaf = 3: 0.6323529411764707\n",
      "F1 score for max depth = 5 and min_sample_leaf = 5: 0.6518518518518518\n",
      "F1 score for max depth = 5 and min_sample_leaf = 10: 0.6617647058823529\n",
      "F1 score for max depth = 5 and min_sample_leaf = 15: 0.4222222222222222\n",
      "F1 score for max depth = 5 and min_sample_leaf = 20: 0.4222222222222222\n",
      "F1 score for max depth = 5 and min_sample_leaf = 30: 0.5252525252525253\n",
      "F1 score for max depth = 5 and min_sample_leaf = 50: 0.5511811023622047\n",
      "F1 score for max depth = 5 and min_sample_leaf = 75: 0.5217391304347826\n",
      "F1 score for max depth = 5 and min_sample_leaf = 100: 0.6271186440677966\n",
      "F1 score for max depth = 6 and min_sample_leaf = 1: 0.6470588235294118\n",
      "F1 score for max depth = 6 and min_sample_leaf = 3: 0.6376811594202898\n",
      "F1 score for max depth = 6 and min_sample_leaf = 5: 0.6571428571428571\n",
      "F1 score for max depth = 6 and min_sample_leaf = 10: 0.6617647058823529\n",
      "F1 score for max depth = 6 and min_sample_leaf = 15: 0.5523809523809523\n",
      "F1 score for max depth = 6 and min_sample_leaf = 20: 0.5523809523809523\n",
      "F1 score for max depth = 6 and min_sample_leaf = 30: 0.5252525252525253\n",
      "F1 score for max depth = 6 and min_sample_leaf = 50: 0.5511811023622047\n",
      "F1 score for max depth = 6 and min_sample_leaf = 75: 0.5217391304347826\n",
      "F1 score for max depth = 6 and min_sample_leaf = 100: 0.6271186440677966\n",
      "F1 score for max depth = 7 and min_sample_leaf = 1: 0.46464646464646464\n",
      "F1 score for max depth = 7 and min_sample_leaf = 3: 0.4242424242424242\n",
      "F1 score for max depth = 7 and min_sample_leaf = 5: 0.46464646464646464\n",
      "F1 score for max depth = 7 and min_sample_leaf = 10: 0.4631578947368421\n",
      "F1 score for max depth = 7 and min_sample_leaf = 15: 0.5523809523809523\n",
      "F1 score for max depth = 7 and min_sample_leaf = 20: 0.5523809523809523\n",
      "F1 score for max depth = 7 and min_sample_leaf = 30: 0.5252525252525253\n",
      "F1 score for max depth = 7 and min_sample_leaf = 50: 0.5511811023622047\n",
      "F1 score for max depth = 7 and min_sample_leaf = 75: 0.5217391304347826\n",
      "F1 score for max depth = 7 and min_sample_leaf = 100: 0.6271186440677966\n",
      "F1 score for max depth = 8 and min_sample_leaf = 1: 0.5614035087719299\n",
      "F1 score for max depth = 8 and min_sample_leaf = 3: 0.5263157894736842\n",
      "F1 score for max depth = 8 and min_sample_leaf = 5: 0.5614035087719299\n",
      "F1 score for max depth = 8 and min_sample_leaf = 10: 0.5636363636363637\n",
      "F1 score for max depth = 8 and min_sample_leaf = 15: 0.5523809523809523\n",
      "F1 score for max depth = 8 and min_sample_leaf = 20: 0.5523809523809523\n",
      "F1 score for max depth = 8 and min_sample_leaf = 30: 0.5252525252525253\n",
      "F1 score for max depth = 8 and min_sample_leaf = 50: 0.5511811023622047\n",
      "F1 score for max depth = 8 and min_sample_leaf = 75: 0.5217391304347826\n",
      "F1 score for max depth = 8 and min_sample_leaf = 100: 0.6271186440677966\n",
      "F1 score for max depth = 9 and min_sample_leaf = 1: 0.5045045045045045\n",
      "F1 score for max depth = 9 and min_sample_leaf = 3: 0.5087719298245614\n",
      "F1 score for max depth = 9 and min_sample_leaf = 5: 0.5438596491228069\n",
      "F1 score for max depth = 9 and min_sample_leaf = 10: 0.5636363636363637\n",
      "F1 score for max depth = 9 and min_sample_leaf = 15: 0.5523809523809523\n",
      "F1 score for max depth = 9 and min_sample_leaf = 20: 0.5523809523809523\n",
      "F1 score for max depth = 9 and min_sample_leaf = 30: 0.5252525252525253\n",
      "F1 score for max depth = 9 and min_sample_leaf = 50: 0.5511811023622047\n",
      "F1 score for max depth = 9 and min_sample_leaf = 75: 0.5217391304347826\n",
      "F1 score for max depth = 9 and min_sample_leaf = 100: 0.6271186440677966\n",
      "F1 score for max depth = 10 and min_sample_leaf = 1: 0.5438596491228069\n",
      "F1 score for max depth = 10 and min_sample_leaf = 3: 0.5043478260869565\n",
      "F1 score for max depth = 10 and min_sample_leaf = 5: 0.5614035087719299\n",
      "F1 score for max depth = 10 and min_sample_leaf = 10: 0.5789473684210527\n",
      "F1 score for max depth = 10 and min_sample_leaf = 15: 0.5523809523809523\n",
      "F1 score for max depth = 10 and min_sample_leaf = 20: 0.5523809523809523\n",
      "F1 score for max depth = 10 and min_sample_leaf = 30: 0.5252525252525253\n",
      "F1 score for max depth = 10 and min_sample_leaf = 50: 0.5511811023622047\n",
      "F1 score for max depth = 10 and min_sample_leaf = 75: 0.5217391304347826\n",
      "F1 score for max depth = 10 and min_sample_leaf = 100: 0.6271186440677966\n",
      "F1 score for max depth = 11 and min_sample_leaf = 1: 0.5357142857142858\n",
      "F1 score for max depth = 11 and min_sample_leaf = 3: 0.5254237288135594\n",
      "F1 score for max depth = 11 and min_sample_leaf = 5: 0.576271186440678\n",
      "F1 score for max depth = 11 and min_sample_leaf = 10: 0.5789473684210527\n",
      "F1 score for max depth = 11 and min_sample_leaf = 15: 0.5523809523809523\n",
      "F1 score for max depth = 11 and min_sample_leaf = 20: 0.5523809523809523\n",
      "F1 score for max depth = 11 and min_sample_leaf = 30: 0.5252525252525253\n",
      "F1 score for max depth = 11 and min_sample_leaf = 50: 0.5511811023622047\n",
      "F1 score for max depth = 11 and min_sample_leaf = 75: 0.5217391304347826\n",
      "F1 score for max depth = 11 and min_sample_leaf = 100: 0.6271186440677966\n",
      "F1 score for max depth = 12 and min_sample_leaf = 1: 0.5309734513274337\n",
      "F1 score for max depth = 12 and min_sample_leaf = 3: 0.5299145299145298\n",
      "F1 score for max depth = 12 and min_sample_leaf = 5: 0.576271186440678\n",
      "F1 score for max depth = 12 and min_sample_leaf = 10: 0.5789473684210527\n",
      "F1 score for max depth = 12 and min_sample_leaf = 15: 0.5523809523809523\n",
      "F1 score for max depth = 12 and min_sample_leaf = 20: 0.5523809523809523\n",
      "F1 score for max depth = 12 and min_sample_leaf = 30: 0.5252525252525253\n",
      "F1 score for max depth = 12 and min_sample_leaf = 50: 0.5511811023622047\n",
      "F1 score for max depth = 12 and min_sample_leaf = 75: 0.5217391304347826\n",
      "F1 score for max depth = 12 and min_sample_leaf = 100: 0.6271186440677966\n",
      "F1 score for max depth = 15 and min_sample_leaf = 1: 0.5614035087719299\n",
      "F1 score for max depth = 15 and min_sample_leaf = 3: 0.5299145299145298\n",
      "F1 score for max depth = 15 and min_sample_leaf = 5: 0.576271186440678\n",
      "F1 score for max depth = 15 and min_sample_leaf = 10: 0.5789473684210527\n",
      "F1 score for max depth = 15 and min_sample_leaf = 15: 0.5523809523809523\n",
      "F1 score for max depth = 15 and min_sample_leaf = 20: 0.5523809523809523\n",
      "F1 score for max depth = 15 and min_sample_leaf = 30: 0.5252525252525253\n",
      "F1 score for max depth = 15 and min_sample_leaf = 50: 0.5511811023622047\n",
      "F1 score for max depth = 15 and min_sample_leaf = 75: 0.5217391304347826\n",
      "F1 score for max depth = 15 and min_sample_leaf = 100: 0.6271186440677966\n",
      "F1 score for max depth = 20 and min_sample_leaf = 1: 0.5614035087719299\n",
      "F1 score for max depth = 20 and min_sample_leaf = 3: 0.5299145299145298\n",
      "F1 score for max depth = 20 and min_sample_leaf = 5: 0.576271186440678\n",
      "F1 score for max depth = 20 and min_sample_leaf = 10: 0.5789473684210527\n",
      "F1 score for max depth = 20 and min_sample_leaf = 15: 0.5523809523809523\n",
      "F1 score for max depth = 20 and min_sample_leaf = 20: 0.5523809523809523\n",
      "F1 score for max depth = 20 and min_sample_leaf = 30: 0.5252525252525253\n",
      "F1 score for max depth = 20 and min_sample_leaf = 50: 0.5511811023622047\n",
      "F1 score for max depth = 20 and min_sample_leaf = 75: 0.5217391304347826\n",
      "F1 score for max depth = 20 and min_sample_leaf = 100: 0.6271186440677966\n",
      "F1 score for max depth = 100 and min_sample_leaf = 1: 0.5614035087719299\n",
      "F1 score for max depth = 100 and min_sample_leaf = 3: 0.5299145299145298\n",
      "F1 score for max depth = 100 and min_sample_leaf = 5: 0.576271186440678\n",
      "F1 score for max depth = 100 and min_sample_leaf = 10: 0.5789473684210527\n",
      "F1 score for max depth = 100 and min_sample_leaf = 15: 0.5523809523809523\n",
      "F1 score for max depth = 100 and min_sample_leaf = 20: 0.5523809523809523\n"
     ]
    },
    {
     "name": "stdout",
     "output_type": "stream",
     "text": [
      "F1 score for max depth = 100 and min_sample_leaf = 30: 0.5252525252525253\n",
      "F1 score for max depth = 100 and min_sample_leaf = 50: 0.5511811023622047\n",
      "F1 score for max depth = 100 and min_sample_leaf = 75: 0.5217391304347826\n",
      "F1 score for max depth = 100 and min_sample_leaf = 100: 0.6271186440677966\n"
     ]
    }
   ],
   "source": [
    "f1_list = [] # список для значений f1\n",
    "max_depth = [1, 2, 3, 4, 5, 6, 7, 8, 9, 10, 11, 12, 15, 20, 100] # значения для перебора\n",
    "min_sample_leaf = [1, 3, 5, 10, 15, 20, 30, 50, 75, 100]\n",
    "\n",
    "for i in max_depth:\n",
    "    for j in min_sample_leaf:\n",
    "        dt = DecisionTreeClassifier(max_depth=i, min_samples_leaf=j, random_state=20) # Задаем гиперпараметры\n",
    "        dt.fit(X_train_train, y_train_train) # Обучаем дерево\n",
    "        f1 = f1_score(y_valid, dt.predict(X_valid)) # Проверяем качество\n",
    "        print(f'F1 score for max depth = {i} and min_sample_leaf = {j}: {f1}')\n",
    "        f1_list.append((f1, i, j)) # Добавляем значения f1 и гиперпараметров одним кортежем в список"
   ]
  },
  {
   "cell_type": "code",
   "execution_count": 27,
   "metadata": {},
   "outputs": [
    {
     "name": "stdout",
     "output_type": "stream",
     "text": [
      "Accuracy on test sample is 0.7272727272727273\n",
      "Precision on test sample is 0.580952380952381\n",
      "Recall on test sample is 0.7625\n",
      "ROC-AUC on test sample is 0.7355546357615894\n",
      "Best f1 on train sample: 0.6666666666666666, best max_depth: 4, best min_sample_leaf: 5\n"
     ]
    }
   ],
   "source": [
    "# В явном виде найдем лучший набор гиперпараметров\n",
    "\n",
    "best = sorted(f1_list, reverse = True)[0] # сортируем по f1 в порядке убывания и берем первый набор, в котором f1 максимальна\n",
    "best_f1 = best[0]\n",
    "best_max_depth = best[1]\n",
    "best_min_sample_leaf = best[2]\n",
    "\n",
    "dt = DecisionTreeClassifier(max_depth=best_max_depth, min_samples_leaf=best_min_sample_leaf, random_state=20)\n",
    "dt.fit(X_train, y_train)\n",
    "\n",
    "print(f'Accuracy on test sample is {accuracy_score(y_test, dt.predict(X_test))}')\n",
    "print(f'Precision on test sample is {precision_score(y_test, dt.predict(X_test))}')\n",
    "print(f'Recall on test sample is {recall_score(y_test, dt.predict(X_test))}')\n",
    "print(f'ROC-AUC on test sample is {roc_auc_score(y_test, dt.predict(X_test))}')\n",
    "print(f'Best f1 on train sample: {best_f1}, best max_depth: {best_max_depth}, best min_sample_leaf: {best_min_sample_leaf}')"
   ]
  },
  {
   "cell_type": "markdown",
   "metadata": {},
   "source": [
    "Не очень высокий precision - модель много объектов относит к ложноположительному классу."
   ]
  },
  {
   "cell_type": "markdown",
   "metadata": {},
   "source": [
    "**Задание 3.3 (0.5 балла)** Обучите [`BaggingClassifier`](https://scikit-learn.org/stable/modules/generated/sklearn.ensemble.BaggingClassifier.html) на 50 деревьях на **полной обучающей** выборке. Оцените качество классификации на тестовой выборке по тем же метрикам."
   ]
  },
  {
   "cell_type": "code",
   "execution_count": 28,
   "metadata": {
    "scrolled": true
   },
   "outputs": [
    {
     "name": "stdout",
     "output_type": "stream",
     "text": [
      "Accuracy on test sample is 0.7359307359307359\n",
      "Precision on test sample is 0.6144578313253012\n",
      "Recall on test sample is 0.6375\n",
      "ROC-AUC on test sample is 0.7127897350993377\n"
     ]
    }
   ],
   "source": [
    "bc = BaggingClassifier(n_estimators=50)\n",
    "bc.fit(X_train, y_train)\n",
    "\n",
    "print(f'Accuracy on test sample is {accuracy_score(y_test, bc.predict(X_test))}')\n",
    "print(f'Precision on test sample is {precision_score(y_test, bc.predict(X_test))}')\n",
    "print(f'Recall on test sample is {recall_score(y_test, bc.predict(X_test))}')\n",
    "print(f'ROC-AUC on test sample is {roc_auc_score(y_test, bc.predict(X_test))}')"
   ]
  },
  {
   "cell_type": "markdown",
   "metadata": {},
   "source": [
    "Accuracy и precision почти всегда выше у бэггинга, recall всегда ниже. В целом бэггинг оказывается немножко лучше."
   ]
  },
  {
   "cell_type": "markdown",
   "metadata": {},
   "source": [
    "**Задание 3.4 (1 балл)** Выполните кросс-валидацию на полной обучающей выборке и подберите оптимальные значения гиперпараметров `max_depth` и `min_samples_split` для `Random Forest` с 50 деревьями. Для этого:\n",
    "\n",
    "1. Создайте списки с возможными значениями для перебора.\n",
    "2. Для каждой пары значений проведите кросс-валидацию на полной обучающей выборке. Количество разбиений выберите на ваш вкус. В качестве критерия будем использовать `f1-меру`. Усредните значение критерия по всем прогонам кросс-валидации. \n",
    "3. Выберите ту пару значений, которая даёт наилучшее среднее качество. \n",
    "\n",
    "Обучите случайный лес с подобранными гиперпараметрами на **полной обучающей** выборке. Оцените качество классификации по тем же метрикам. Какая из трёх построенных моделей показала себя лучше?"
   ]
  },
  {
   "cell_type": "code",
   "execution_count": 29,
   "metadata": {},
   "outputs": [],
   "source": [
    "from sklearn.model_selection import KFold\n",
    "from sklearn.model_selection import cross_val_score"
   ]
  },
  {
   "cell_type": "code",
   "execution_count": 40,
   "metadata": {
    "scrolled": true
   },
   "outputs": [
    {
     "name": "stdout",
     "output_type": "stream",
     "text": [
      "Mean F1 score for max depth = 1 and min_samples_split = 2: 0.31218708827404484\n",
      "Mean F1 score for max depth = 1 and min_samples_split = 3: 0.32405904870164637\n",
      "Mean F1 score for max depth = 1 and min_samples_split = 5: 0.25087640922662696\n",
      "Mean F1 score for max depth = 1 and min_samples_split = 10: 0.3242894056847545\n",
      "Mean F1 score for max depth = 1 and min_samples_split = 15: 0.26776513277255487\n",
      "Mean F1 score for max depth = 1 and min_samples_split = 20: 0.28952789501805326\n",
      "Mean F1 score for max depth = 1 and min_samples_split = 30: 0.26193447143695103\n",
      "Mean F1 score for max depth = 1 and min_samples_split = 50: 0.3180676328502416\n",
      "Mean F1 score for max depth = 2 and min_samples_split = 2: 0.5285092864125123\n",
      "Mean F1 score for max depth = 2 and min_samples_split = 3: 0.5072581358819496\n",
      "Mean F1 score for max depth = 2 and min_samples_split = 5: 0.49432670044905863\n",
      "Mean F1 score for max depth = 2 and min_samples_split = 10: 0.5455745123121203\n",
      "Mean F1 score for max depth = 2 and min_samples_split = 15: 0.522976785618295\n",
      "Mean F1 score for max depth = 2 and min_samples_split = 20: 0.4928707372515081\n",
      "Mean F1 score for max depth = 2 and min_samples_split = 30: 0.5063886214887108\n",
      "Mean F1 score for max depth = 2 and min_samples_split = 50: 0.5001734920598593\n",
      "Mean F1 score for max depth = 3 and min_samples_split = 2: 0.5708872557789656\n",
      "Mean F1 score for max depth = 3 and min_samples_split = 3: 0.5881512446123601\n",
      "Mean F1 score for max depth = 3 and min_samples_split = 5: 0.5735589337563022\n",
      "Mean F1 score for max depth = 3 and min_samples_split = 10: 0.5722599639738086\n",
      "Mean F1 score for max depth = 3 and min_samples_split = 15: 0.587978872978873\n",
      "Mean F1 score for max depth = 3 and min_samples_split = 20: 0.5887423367706165\n",
      "Mean F1 score for max depth = 3 and min_samples_split = 30: 0.5863759208366894\n",
      "Mean F1 score for max depth = 3 and min_samples_split = 50: 0.585477898966705\n",
      "Mean F1 score for max depth = 4 and min_samples_split = 2: 0.5821495084129715\n",
      "Mean F1 score for max depth = 4 and min_samples_split = 3: 0.604370709382151\n",
      "Mean F1 score for max depth = 4 and min_samples_split = 5: 0.5937804520577099\n",
      "Mean F1 score for max depth = 4 and min_samples_split = 10: 0.5872277178930354\n",
      "Mean F1 score for max depth = 4 and min_samples_split = 15: 0.6070154651899073\n",
      "Mean F1 score for max depth = 4 and min_samples_split = 20: 0.6054156318765767\n",
      "Mean F1 score for max depth = 4 and min_samples_split = 30: 0.5968191067953746\n",
      "Mean F1 score for max depth = 4 and min_samples_split = 50: 0.5982920928057759\n",
      "Mean F1 score for max depth = 5 and min_samples_split = 2: 0.618555578471617\n",
      "Mean F1 score for max depth = 5 and min_samples_split = 3: 0.6102991890408053\n",
      "Mean F1 score for max depth = 5 and min_samples_split = 5: 0.6128985161274698\n",
      "Mean F1 score for max depth = 5 and min_samples_split = 10: 0.5864278393140843\n",
      "Mean F1 score for max depth = 5 and min_samples_split = 15: 0.6088498607838938\n",
      "Mean F1 score for max depth = 5 and min_samples_split = 20: 0.6062933356153696\n",
      "Mean F1 score for max depth = 5 and min_samples_split = 30: 0.617165210323105\n",
      "Mean F1 score for max depth = 5 and min_samples_split = 50: 0.6171089577400938\n",
      "Mean F1 score for max depth = 6 and min_samples_split = 2: 0.6482414618007839\n",
      "Mean F1 score for max depth = 6 and min_samples_split = 3: 0.6070683968571766\n",
      "Mean F1 score for max depth = 6 and min_samples_split = 5: 0.6382580410786768\n",
      "Mean F1 score for max depth = 6 and min_samples_split = 10: 0.6159683737356556\n",
      "Mean F1 score for max depth = 6 and min_samples_split = 15: 0.6268170426065163\n",
      "Mean F1 score for max depth = 6 and min_samples_split = 20: 0.6297956313879393\n",
      "Mean F1 score for max depth = 6 and min_samples_split = 30: 0.6037783474055903\n",
      "Mean F1 score for max depth = 6 and min_samples_split = 50: 0.6074506001068106\n",
      "Mean F1 score for max depth = 8 and min_samples_split = 2: 0.6240484668879979\n",
      "Mean F1 score for max depth = 8 and min_samples_split = 3: 0.6364564054716856\n",
      "Mean F1 score for max depth = 8 and min_samples_split = 5: 0.6344761904761904\n",
      "Mean F1 score for max depth = 8 and min_samples_split = 10: 0.6330823974659591\n",
      "Mean F1 score for max depth = 8 and min_samples_split = 15: 0.619353109438672\n",
      "Mean F1 score for max depth = 8 and min_samples_split = 20: 0.6298278314245078\n",
      "Mean F1 score for max depth = 8 and min_samples_split = 30: 0.6139204260169395\n",
      "Mean F1 score for max depth = 8 and min_samples_split = 50: 0.592165999945461\n",
      "Mean F1 score for max depth = 10 and min_samples_split = 2: 0.6262033578781898\n",
      "Mean F1 score for max depth = 10 and min_samples_split = 3: 0.6526216967772285\n",
      "Mean F1 score for max depth = 10 and min_samples_split = 5: 0.6397031275817884\n",
      "Mean F1 score for max depth = 10 and min_samples_split = 10: 0.6207982175724112\n",
      "Mean F1 score for max depth = 10 and min_samples_split = 15: 0.6348966713654567\n",
      "Mean F1 score for max depth = 10 and min_samples_split = 20: 0.610062531036206\n",
      "Mean F1 score for max depth = 10 and min_samples_split = 30: 0.6234570722476024\n",
      "Mean F1 score for max depth = 10 and min_samples_split = 50: 0.6016217049335087\n",
      "Mean F1 score for max depth = 15 and min_samples_split = 2: 0.6352163005838979\n",
      "Mean F1 score for max depth = 15 and min_samples_split = 3: 0.6276432582597441\n",
      "Mean F1 score for max depth = 15 and min_samples_split = 5: 0.6404847111835841\n",
      "Mean F1 score for max depth = 15 and min_samples_split = 10: 0.6246517629949261\n",
      "Mean F1 score for max depth = 15 and min_samples_split = 15: 0.623823125471361\n",
      "Mean F1 score for max depth = 15 and min_samples_split = 20: 0.6207882701103041\n",
      "Mean F1 score for max depth = 15 and min_samples_split = 30: 0.6234192037470726\n",
      "Mean F1 score for max depth = 15 and min_samples_split = 50: 0.6087064676616916\n",
      "Mean F1 score for max depth = 20 and min_samples_split = 2: 0.6401713962149096\n",
      "Mean F1 score for max depth = 20 and min_samples_split = 3: 0.6271646859083192\n",
      "Mean F1 score for max depth = 20 and min_samples_split = 5: 0.6514440267335004\n",
      "Mean F1 score for max depth = 20 and min_samples_split = 10: 0.6506697911977191\n",
      "Mean F1 score for max depth = 20 and min_samples_split = 15: 0.6308675799086757\n",
      "Mean F1 score for max depth = 20 and min_samples_split = 20: 0.6451802852837821\n",
      "Mean F1 score for max depth = 20 and min_samples_split = 30: 0.6102806098987956\n",
      "Mean F1 score for max depth = 20 and min_samples_split = 50: 0.5893097856202372\n"
     ]
    }
   ],
   "source": [
    "max_depth = [1, 2, 3, 4, 5, 6, 8, 10, 15, 20]\n",
    "min_samples_split = [2, 3, 5, 10, 15, 20, 30, 50]\n",
    "\n",
    "f1_mean_list = []\n",
    "for i in max_depth:\n",
    "    for j in min_samples_split:\n",
    "        rfc = RandomForestClassifier(n_estimators=50, max_depth=i, min_samples_split=j)\n",
    "        kf = KFold(n_splits=5)\n",
    "        f1_mean = np.mean(cross_val_score(rfc, X_train, y_train, cv = kf, scoring = 'f1'))\n",
    "        print(f'Mean F1 score for max depth = {i} and min_samples_split = {j}: {f1_mean}')\n",
    "        f1_mean_list.append((f1_mean, i, j))"
   ]
  },
  {
   "cell_type": "code",
   "execution_count": 41,
   "metadata": {
    "scrolled": true
   },
   "outputs": [
    {
     "name": "stdout",
     "output_type": "stream",
     "text": [
      "Accuracy on test sample is 0.7359307359307359\n",
      "Precision on test sample is 0.6144578313253012\n",
      "Recall on test sample is 0.6375\n",
      "ROC-AUC on test sample is 0.7127897350993377\n",
      "Best f1 on train sample: 0.6526216967772285, best max_depth: 10, best min_sample_split: 3\n"
     ]
    }
   ],
   "source": [
    "new_best = sorted(f1_mean_list, reverse = True)[0]\n",
    "best_mean_f1 = new_best[0]\n",
    "best_max_depth_rf = new_best[1]\n",
    "best_min_samples_split = new_best[2]\n",
    "\n",
    "rfc = RandomForestClassifier(n_estimators=50, max_depth=best_max_depth_rf, min_samples_split=best_min_samples_split)\n",
    "rfc.fit(X_train, y_train)\n",
    "\n",
    "print(f'Accuracy on test sample is {accuracy_score(y_test, rfc.predict(X_test))}')\n",
    "print(f'Precision on test sample is {precision_score(y_test, rfc.predict(X_test))}')\n",
    "print(f'Recall on test sample is {recall_score(y_test, rfc.predict(X_test))}')\n",
    "print(f'ROC-AUC on test sample is {roc_auc_score(y_test, rfc.predict(X_test))}')\n",
    "print(f'Best f1 on train sample: {best_mean_f1}, best max_depth: {best_max_depth_rf}, best min_sample_split: {best_min_samples_split}')"
   ]
  },
  {
   "cell_type": "code",
   "execution_count": 42,
   "metadata": {
    "scrolled": true
   },
   "outputs": [
    {
     "name": "stdout",
     "output_type": "stream",
     "text": [
      "FOR ONE TREE\n",
      "Accuracy on test sample is 0.7272727272727273\n",
      "Precision on test sample is 0.580952380952381\n",
      "Recall on test sample is 0.7625\n",
      "ROC-AUC on test sample is 0.7355546357615894\n",
      "\n",
      "\n",
      "FOR BAGGING\n",
      "Accuracy on test sample is 0.7359307359307359\n",
      "Precision on test sample is 0.6144578313253012\n",
      "Recall on test sample is 0.6375\n",
      "ROC-AUC on test sample is 0.7127897350993377\n",
      "\n",
      "\n",
      "FOR RANDOM FOREST\n",
      "Accuracy on test sample is 0.7359307359307359\n",
      "Precision on test sample is 0.6144578313253012\n",
      "Recall on test sample is 0.6375\n",
      "ROC-AUC on test sample is 0.7127897350993377\n"
     ]
    }
   ],
   "source": [
    "# Еще раз результаты для трех моделей\n",
    "print('FOR ONE TREE')\n",
    "print(f'Accuracy on test sample is {accuracy_score(y_test, dt.predict(X_test))}')\n",
    "print(f'Precision on test sample is {precision_score(y_test, dt.predict(X_test))}')\n",
    "print(f'Recall on test sample is {recall_score(y_test, dt.predict(X_test))}')\n",
    "print(f'ROC-AUC on test sample is {roc_auc_score(y_test, dt.predict(X_test))}')\n",
    "print('\\n')\n",
    "print('FOR BAGGING')\n",
    "print(f'Accuracy on test sample is {accuracy_score(y_test, bc.predict(X_test))}')\n",
    "print(f'Precision on test sample is {precision_score(y_test, bc.predict(X_test))}')\n",
    "print(f'Recall on test sample is {recall_score(y_test, bc.predict(X_test))}')\n",
    "print(f'ROC-AUC on test sample is {roc_auc_score(y_test, bc.predict(X_test))}')\n",
    "print('\\n')\n",
    "print('FOR RANDOM FOREST')\n",
    "print(f'Accuracy on test sample is {accuracy_score(y_test, rfc.predict(X_test))}')\n",
    "print(f'Precision on test sample is {precision_score(y_test, rfc.predict(X_test))}')\n",
    "print(f'Recall on test sample is {recall_score(y_test, rfc.predict(X_test))}')\n",
    "print(f'ROC-AUC on test sample is {roc_auc_score(y_test, rfc.predict(X_test))}')"
   ]
  },
  {
   "cell_type": "markdown",
   "metadata": {},
   "source": [
    "Мы видим, что результаты несильно отличаются, однозначно сказать, что какая-то модель сильно лучше, по этим метрикам нельзя."
   ]
  },
  {
   "cell_type": "markdown",
   "metadata": {},
   "source": [
    "**Задание 3.5 (0.5 балла)** Постройте график зависимости AUC ROC на тестовой выборке от числа деревьев (`n_estimators`) для случайного леса, обучаемого на **полной обучающей** выборке. Какие выводы можно сделать?"
   ]
  },
  {
   "cell_type": "code",
   "execution_count": 43,
   "metadata": {
    "scrolled": true
   },
   "outputs": [
    {
     "data": {
      "image/png": "[encoded data removed]",
      "text/plain": [
       "<Figure size 792x360 with 1 Axes>"
      ]
     },
     "metadata": {
      "needs_background": "light"
     },
     "output_type": "display_data"
    }
   ],
   "source": [
    "x_coord = []\n",
    "y_coord = []\n",
    "\n",
    "for i in range (1, 80):\n",
    "    rfc_ = RandomForestClassifier(n_estimators=i, max_depth=best_max_depth_rf, min_samples_split=best_min_samples_split)\n",
    "    rfc_.fit(X_train, y_train)\n",
    "    x_coord.append(i)\n",
    "    y_coord.append(roc_auc_score(y_test, rfc_.predict(X_test)))\n",
    "\n",
    "plt.figure(figsize=(11, 5))\n",
    "plt.plot(x_coord, y_coord, 'm')\n",
    "plt.grid()\n",
    "plt.show()"
   ]
  },
  {
   "cell_type": "markdown",
   "metadata": {},
   "source": [
    "Результаты в рандомном лесе колеблются около одного и того же значения, то есть лес не переобучается из-за увеличения количества деревьев."
   ]
  },
  {
   "cell_type": "markdown",
   "metadata": {},
   "source": [
    "**Задание 3.6 (0.5 балла)** Для лучшей модели случайного леса из **Задания 3.4** посчитайте важность признаков и постройте bar plot. Какой признак оказался самым важным для определения диабета?"
   ]
  },
  {
   "cell_type": "code",
   "execution_count": 44,
   "metadata": {
    "scrolled": true
   },
   "outputs": [
    {
     "data": {
      "image/png": "[encoded data removed]",
      "text/plain": [
       "<Figure size 936x360 with 1 Axes>"
      ]
     },
     "metadata": {
      "needs_background": "light"
     },
     "output_type": "display_data"
    }
   ],
   "source": [
    "plt.figure(figsize=(13, 5))\n",
    "plt.bar(X_train.columns, rfc_.feature_importances_, color = 'pink', edgecolor = 'grey')\n",
    "plt.show()"
   ]
  },
  {
   "cell_type": "markdown",
   "metadata": {},
   "source": [
    "Самым важным признаком оказалась концетрация глюкозы."
   ]
  }
 ],
 "metadata": {
  "kernelspec": {
   "display_name": "Python 3 (ipykernel)",
   "language": "python",
   "name": "python3"
  },
  "language_info": {
   "codemirror_mode": {
    "name": "ipython",
    "version": 3
   },
   "file_extension": ".py",
   "mimetype": "text/x-python",
   "name": "python",
   "nbconvert_exporter": "python",
   "pygments_lexer": "ipython3",
   "version": "3.9.12"
  }
 },
 "nbformat": 4,
 "nbformat_minor": 4
}
